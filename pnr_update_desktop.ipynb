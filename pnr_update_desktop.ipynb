{
 "cells": [
  {
   "cell_type": "code",
   "execution_count": 3,
   "metadata": {
    "collapsed": true
   },
   "outputs": [],
   "source": [
    "from win10toast import ToastNotifier"
   ]
  },
  {
   "cell_type": "code",
   "execution_count": 4,
   "metadata": {},
   "outputs": [],
   "source": [
    "import time\n",
    "import json\n",
    "import urllib.request as finder\n",
    "import datetime"
   ]
  },
  {
   "cell_type": "code",
   "execution_count": 5,
   "metadata": {
    "collapsed": true
   },
   "outputs": [],
   "source": [
    "# Authentication information for railways api\n",
    "my_key=\"###########\";"
   ]
  },
  {
   "cell_type": "code",
   "execution_count": 6,
   "metadata": {
    "collapsed": true
   },
   "outputs": [],
   "source": [
    "# This function interacts with railways API and extracts the relevant information regarding pnr status\n",
    "# Input Args: pnr_number\n",
    "# output : python dictonary containing information about current status of reservation\n",
    "def get_data(pnr_number):\n",
    "    try:\n",
    "        url=\"https://api.railwayapi.com/v2/pnr-status/pnr/\"+str(pnr_number)+\"/apikey/\"+str(my_key)+\"/\"\n",
    "        data_response=finder.urlopen(url);\n",
    "        data_files=data_response.read().decode('utf8')\n",
    "        data_dict=json.loads(data_files)\n",
    "        print(\"got_them\")\n",
    "        return data_dict\n",
    "    except:\n",
    "            print(\"Something wrong with your internet connection trying again after 60 sec\")\n",
    "            time.sleep(60)   \n",
    "            get_data(pnr_number)"
   ]
  },
  {
   "cell_type": "code",
   "execution_count": 7,
   "metadata": {
    "collapsed": true
   },
   "outputs": [],
   "source": [
    "# This function  generates the pop up in your desktop regarding your updated pnr status\n",
    "# input Args:message(string)\n",
    "# Output: None\n",
    "def get_notification(content):\n",
    "    try:\n",
    "        handle=ToastNotifier()\n",
    "        handle.show_toast(\"Update on pnr status\",content,icon_path=None,duration=30);\n",
    "    except:\n",
    "        print(\"Something went wrong we will trying again\")\n",
    "        get_notification(content)"
   ]
  },
  {
   "cell_type": "code",
   "execution_count": 13,
   "metadata": {},
   "outputs": [],
   "source": [
    "# This is the main function which calls all other function and is responsible for running script\n",
    "# Input Args:Pnr_number,interval(time interval after which u want to receive message)\n",
    "# output Args:None\n",
    "def main_func(pnr_number,interval):\n",
    "    global exceptions\n",
    "    data=get_data(pnr_number)\n",
    "    if len(str(pnr_number))!=10:\n",
    "        print(\"please input a valid 10 digit PNR number\")\n",
    "    elif data[\"response_code\"]!=200:\n",
    "            if data[\"response_code\"]==210:\n",
    "                print(\"Train doesn’t run on the date queried.\");\n",
    "            elif data[\"response_code\"]==211:\n",
    "                print(\"Train doesn’t have journey class queried.\")\n",
    "            elif data[\"response_code\"]==220:\n",
    "                print(\"Flushed PNR.\")\n",
    "            elif data[\"response_code\"]==221:\n",
    "                print(\"Invalid PNR.\")\n",
    "            elif data[\"response_code\"]==230:\n",
    "                print(\"Date chosen for the query is not valid for the chosen parameters\")\n",
    "            elif data[\"response_code\"]==404:\n",
    "                print(\"Data couldn’t be loaded on our servers. No data available.\")\n",
    "            elif data[\"response_code\"]==405:\n",
    "                print(\"Data couldn’t be loaded on our servers. Request couldn’t go through.\")\n",
    "            elif data[\"response_code\"]==500:\n",
    "                print(\"Unauthorized API Key.\")\n",
    "            elif data[\"response_code\"]==501:\n",
    "                print(\"Account Expired.\")\n",
    "            elif data[\"response_code\"]==502:\n",
    "                print(\"Invalid arguments passed.\")\n",
    "                      \n",
    "    elif data[\"chart_prepared\"]==0:\n",
    "        print (\"Chart not yet prepared please try after some time\")\n",
    "        get_notification(\"Chart not yet prepared please try after some time\");\n",
    "    else:\n",
    "        i=1;\n",
    "        archived_list=[];\n",
    "            \n",
    "        for passenger in data[\"passengers\"]:\n",
    "                database={};\n",
    "                database[\"no\"]=passenger[\"no\"];\n",
    "                database[\"current_status\"]=passenger[\"current_status\"]\n",
    "                database[\"last_status\"]=passenger[\"booking_status\"]\n",
    "                archived_list.append(database);\n",
    "        \n",
    "        while 1:\n",
    "            time.sleep(interval) # sleeps the programe for the interval provided\n",
    "            disp_info=\"\";\n",
    "            for (list_p) in (archived_list):\n",
    "                if lsit_p[\"current_satus\"]!=list_p[\"last_status\"]: # if satus is changed saves the result to be displayd\n",
    "                    str1=\"Update in reservation status of \"+str(list_p[\"no\"])+\" current status is\"+str(lsit_p[\"current_status\"])+\"\\n\"            \n",
    "                    list_p[\"last_status\"]=lsit_p[\"current_satus\"]\n",
    "                    disp_info+=str1;\n",
    "            if len(disp_info)!=0:\n",
    "                print(\"Status checked at \"+ str(datetime.datetime.now()));\n",
    "                for str1 in disp_info:\n",
    "                    print(str1);\n",
    "                    get_notification(str1);\n",
    "                    time.sleep(30);\n",
    "            else :\n",
    "                get_notification(\"sorry no change in status since last time\")\n",
    "                \n",
    "            data=get_data(pnr_number);\n",
    "            for (p1,p2) in (data[\"passenger\"],archived_list):\n",
    "                p2[\"current_status\"]=p1[\"current_status\"];\n",
    "            \n",
    "            "
   ]
  },
  {
   "cell_type": "code",
   "execution_count": 12,
   "metadata": {},
   "outputs": [
    {
     "name": "stdout",
     "output_type": "stream",
     "text": [
      "Enter your 10 Digit Pnr number2722699583\n",
      "Enter interval at which you want to check status200\n",
      "got_them\n",
      "Chart not yet prepared please try after some time\n"
     ]
    }
   ],
   "source": [
    "# enter your input here\n",
    "pnr_num=int(input(\"Enter your 10 Digit Pnr number\"))\n",
    "interval=int(input(\"Enter interval at which you want to check status\"))\n",
    "main_func(pnr_num,interval);\n"
   ]
  },
  {
   "cell_type": "code",
   "execution_count": null,
   "metadata": {
    "collapsed": true
   },
   "outputs": [],
   "source": []
  }
 ],
 "metadata": {
  "kernelspec": {
   "display_name": "Python 3",
   "language": "python",
   "name": "python3"
  },
  "language_info": {
   "codemirror_mode": {
    "name": "ipython",
    "version": 3
   },
   "file_extension": ".py",
   "mimetype": "text/x-python",
   "name": "python",
   "nbconvert_exporter": "python",
   "pygments_lexer": "ipython3",
   "version": "3.6.3"
  }
 },
 "nbformat": 4,
 "nbformat_minor": 2
}
